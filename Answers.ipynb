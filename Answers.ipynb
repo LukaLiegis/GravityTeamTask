{
 "cells": [
  {
   "cell_type": "code",
   "execution_count": 1,
   "metadata": {
    "collapsed": true
   },
   "outputs": [],
   "source": [
    "import math\n",
    "import numpy as np"
   ]
  },
  {
   "cell_type": "markdown",
   "source": [
    "Imagine you are on the equator. You go 1000 km to east then 1000km to north then 1000km to west then 1000km to south. Assuming earth is a perfect sphere and equator is 40000 km, how far from the original location (in kilometers) are you?"
   ],
   "metadata": {
    "collapsed": false
   }
  },
  {
   "cell_type": "code",
   "execution_count": null,
   "outputs": [],
   "source": [],
   "metadata": {
    "collapsed": false
   }
  },
  {
   "cell_type": "markdown",
   "source": [
    "Sports betting site gives you payouts for a football match.\n",
    "❖ TeamA win -> 1.2\n",
    "❖ Draw -> 19.2\n",
    "❖ TeamB win -> 6.4\n",
    "Given this information, what are expected probabilities:\n",
    "● TeamA win\n",
    "● Draw\n",
    "● TeamB win\n",
    "What is a betting site's profit margin (assuming it's equal for all outcomes)?"
   ],
   "metadata": {
    "collapsed": false
   }
  },
  {
   "cell_type": "code",
   "execution_count": 8,
   "outputs": [
    {
     "name": "stdout",
     "output_type": "stream",
     "text": [
      "0.8333333333333334\n",
      "0.052083333333333336\n",
      "0.15625\n",
      "-0.04166666666666674\n"
     ]
    }
   ],
   "source": [
    "def implied_probability(payout):\n",
    "    return 1 / payout\n",
    "\n",
    "prob_team_a_win = implied_probability(1.2)\n",
    "prob_draw = implied_probability(19.2)\n",
    "prob_team_b_win = implied_probability(6.4)\n",
    "\n",
    "print(prob_team_a_win)\n",
    "print(prob_draw)\n",
    "print(prob_team_b_win)\n",
    "\n",
    "total_implied_probability = prob_team_a_win + prob_draw + prob_team_b_win\n",
    "betting_profit_margin = 1 - total_implied_probability\n",
    "print(betting_profit_margin)"
   ],
   "metadata": {
    "collapsed": false
   }
  },
  {
   "cell_type": "markdown",
   "source": [
    "Take binance.com trading platform, ETH/USDT SPOT trading pair. What is the average trade price, weighted by ETH amount, in January 1st 2023 UTC time.\n",
    "(hint: sum of first 8 digits after comma should be 37)"
   ],
   "metadata": {
    "collapsed": false
   }
  },
  {
   "cell_type": "code",
   "execution_count": 3,
   "outputs": [
    {
     "name": "stdout",
     "output_type": "stream",
     "text": [
      "141140897.32\n"
     ]
    }
   ],
   "source": [
    "vol_eth = 117762\n",
    "high = 1204.67\n",
    "low = 1190.57\n",
    "close = 1200.34\n",
    "average = (high + low + close) / 3\n",
    "vwap = average * vol_eth\n",
    "print(vwap)"
   ],
   "metadata": {
    "collapsed": false
   }
  },
  {
   "cell_type": "markdown",
   "source": [
    "Sum of all digits of all natural numbers [0; 10^12] inclusive."
   ],
   "metadata": {
    "collapsed": false
   }
  },
  {
   "cell_type": "code",
   "execution_count": 2,
   "outputs": [
    {
     "data": {
      "text/plain": "array([0, 1, 2, 3, 4, 5])"
     },
     "execution_count": 2,
     "metadata": {},
     "output_type": "execute_result"
    }
   ],
   "source": [
    "first_number = 0\n",
    "last_number = 10^12\n",
    "np.arange(first_number, last_number, 1)"
   ],
   "metadata": {
    "collapsed": false
   }
  },
  {
   "cell_type": "code",
   "execution_count": null,
   "outputs": [],
   "source": [],
   "metadata": {
    "collapsed": false
   }
  }
 ],
 "metadata": {
  "kernelspec": {
   "display_name": "Python 3",
   "language": "python",
   "name": "python3"
  },
  "language_info": {
   "codemirror_mode": {
    "name": "ipython",
    "version": 2
   },
   "file_extension": ".py",
   "mimetype": "text/x-python",
   "name": "python",
   "nbconvert_exporter": "python",
   "pygments_lexer": "ipython2",
   "version": "2.7.6"
  }
 },
 "nbformat": 4,
 "nbformat_minor": 0
}

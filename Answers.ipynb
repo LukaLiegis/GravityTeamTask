{
 "cells": [
  {
   "cell_type": "code",
   "execution_count": 1,
   "metadata": {
    "collapsed": true
   },
   "outputs": [],
   "source": [
    "import math\n",
    "import numpy as np"
   ]
  },
  {
   "cell_type": "markdown",
   "source": [
    "Imagine you are on the equator. You go 1000 km to east then 1000km to north then 1000km to west then 1000km to south. Assuming earth is a perfect sphere and equator is 40000 km, how far from the original location (in kilometers) are you?"
   ],
   "metadata": {
    "collapsed": false
   }
  },
  {
   "cell_type": "code",
   "execution_count": 41,
   "outputs": [
    {
     "name": "stdout",
     "output_type": "stream",
     "text": [
      "The radius is:  6366.197723675814\n",
      "The angle is:  0.15707963267948966\n",
      "The chord length is: 998.9722332485385\n",
      "The area is: 3170025.0320664207\n",
      "The height is:  995.8927352435616\n",
      "The radius at the top is:  6287.819265597909\n",
      "The angle 0.15903765005957274\n",
      "The difference in angles is:  0.0019580173800830825\n",
      "The answer is:  12.4651257880026 km\n"
     ]
    }
   ],
   "source": [
    "distance = 1000\n",
    "circumference = 40000\n",
    "radius = circumference / (2 * np.pi)\n",
    "print(\"The radius is: \", radius)\n",
    "\n",
    "theta = distance / radius\n",
    "print(\"The angle is: \", theta)\n",
    "\n",
    "chord = 2 * radius * np.sin(theta / 2)\n",
    "print(\"The chord length is:\", chord)\n",
    "\n",
    "area = 0.5 * radius * radius * np.sin(theta)\n",
    "print(\"The area is:\", area)\n",
    "\n",
    "height = 2 * (area / radius)\n",
    "print(\"The height is: \", height)\n",
    "\n",
    "new_radius = (height / np.sin(theta)) * np.sin(np.pi/2 - theta)\n",
    "print(\"The radius at the top is: \", new_radius)\n",
    "\n",
    "new_theta = distance / new_radius\n",
    "print(\"The angle\", new_theta)\n",
    "\n",
    "delta = new_theta - theta\n",
    "print(\"The difference in angles is: \", delta)\n",
    "\n",
    "answer = delta * radius\n",
    "print(\"The answer is: \", answer, \"km\")"
   ],
   "metadata": {
    "collapsed": false
   }
  },
  {
   "cell_type": "markdown",
   "source": [
    "Sports betting site gives you payouts for a football match.\n",
    "❖ TeamA win -> 1.2\n",
    "❖ Draw -> 19.2\n",
    "❖ TeamB win -> 6.4\n",
    "Given this information, what are expected probabilities:\n",
    "● TeamA win\n",
    "● Draw\n",
    "● TeamB win\n",
    "What is a betting site's profit margin (assuming it's equal for all outcomes)?"
   ],
   "metadata": {
    "collapsed": false
   }
  },
  {
   "cell_type": "code",
   "execution_count": 14,
   "outputs": [
    {
     "name": "stdout",
     "output_type": "stream",
     "text": [
      "The probability that team a wins is:  0.8333333333333334\n",
      "The probability that it is a draw is:  0.052083333333333336\n",
      "The probability that team b wins is:  0.15625\n",
      "The profit margin is:  0.04166666666666674\n"
     ]
    }
   ],
   "source": [
    "def implied_probability(payout):\n",
    "    return 1 / payout\n",
    "\n",
    "print(\"The probability that team a wins is: \", implied_probability(1.2))\n",
    "print(\"The probability that it is a draw is: \", implied_probability(19.2))\n",
    "print(\"The probability that team b wins is: \", implied_probability(6.4))\n",
    "\n",
    "total_implied_probability = implied_probability(1.2) + implied_probability(19.2) + implied_probability(6.4)\n",
    "betting_profit_margin = total_implied_probability - 1\n",
    "print(\"The profit margin is: \", betting_profit_margin)"
   ],
   "metadata": {
    "collapsed": false
   }
  },
  {
   "cell_type": "markdown",
   "source": [
    "Take binance.com trading platform, ETH/USDT SPOT trading pair. What is the average trade price, weighted by ETH amount, in January 1st 2023 UTC time.\n",
    "(hint: sum of first 8 digits after comma should be 37)"
   ],
   "metadata": {
    "collapsed": false
   }
  },
  {
   "cell_type": "code",
   "execution_count": 3,
   "outputs": [
    {
     "name": "stdout",
     "output_type": "stream",
     "text": [
      "141140897.32\n"
     ]
    }
   ],
   "source": [
    "vol_eth = 117762\n",
    "high = 1204.67\n",
    "low = 1190.57\n",
    "close = 1200.34\n",
    "average = (high + low + close) / 3\n",
    "vwap = average * vol_eth\n",
    "print(vwap)"
   ],
   "metadata": {
    "collapsed": false
   }
  },
  {
   "cell_type": "markdown",
   "source": [
    "Sum of all digits of all natural numbers [0; 10^12] inclusive."
   ],
   "metadata": {
    "collapsed": false
   }
  },
  {
   "cell_type": "code",
   "execution_count": 42,
   "outputs": [
    {
     "name": "stdout",
     "output_type": "stream",
     "text": [
      "The sum of all numbers from 0 to 10^12 is:  5.000000000005e+23\n"
     ]
    }
   ],
   "source": [
    "def sum(last_number):\n",
    "    return (last_number*(last_number+1))/2\n",
    "\n",
    "sum = sum(10**12)\n",
    "print(\"The sum of all numbers from 0 to 10^12 is: \", sum)"
   ],
   "metadata": {
    "collapsed": false
   }
  },
  {
   "cell_type": "code",
   "execution_count": null,
   "outputs": [],
   "source": [],
   "metadata": {
    "collapsed": false
   }
  }
 ],
 "metadata": {
  "kernelspec": {
   "display_name": "Python 3",
   "language": "python",
   "name": "python3"
  },
  "language_info": {
   "codemirror_mode": {
    "name": "ipython",
    "version": 2
   },
   "file_extension": ".py",
   "mimetype": "text/x-python",
   "name": "python",
   "nbconvert_exporter": "python",
   "pygments_lexer": "ipython2",
   "version": "2.7.6"
  }
 },
 "nbformat": 4,
 "nbformat_minor": 0
}

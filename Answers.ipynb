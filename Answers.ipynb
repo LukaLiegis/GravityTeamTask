{
 "cells": [
  {
   "cell_type": "code",
   "execution_count": 45,
   "metadata": {
    "collapsed": true
   },
   "outputs": [],
   "source": [
    "import math\n",
    "import numpy as np\n",
    "import pandas as pd"
   ]
  },
  {
   "cell_type": "markdown",
   "source": [
    "Imagine you are on the equator. You go 1000 km to east then 1000km to north then 1000km to west then 1000km to south. Assuming earth is a perfect sphere and equator is 40000 km, how far from the original location (in kilometers) are you?"
   ],
   "metadata": {
    "collapsed": false
   }
  },
  {
   "cell_type": "code",
   "execution_count": 44,
   "outputs": [
    {
     "name": "stdout",
     "output_type": "stream",
     "text": [
      "The radius is:  6366.197723675814\n",
      "The angle is:  0.15707963267948966\n",
      "The area is: 3170025.0320664207\n",
      "The height is:  995.8927352435616\n",
      "The radius at the top is:  6287.819265597909\n",
      "The angle 0.15903765005957274\n",
      "The difference in angles is:  0.0019580173800830825\n",
      "The answer is:  12.4651257880026 km\n"
     ]
    }
   ],
   "source": [
    "distance = 1000\n",
    "circumference = 40000\n",
    "radius = circumference / (2 * np.pi)\n",
    "print(\"The radius is: \", radius)\n",
    "\n",
    "theta = distance / radius\n",
    "print(\"The angle is: \", theta)\n",
    "\n",
    "area = 0.5 * radius * radius * np.sin(theta)\n",
    "print(\"The area is:\", area)\n",
    "\n",
    "height = 2 * (area / radius)\n",
    "print(\"The height is: \", height)\n",
    "\n",
    "new_radius = (height / np.sin(theta)) * np.sin(np.pi/2 - theta)\n",
    "print(\"The radius at the top is: \", new_radius)\n",
    "\n",
    "new_theta = distance / new_radius\n",
    "print(\"The angle\", new_theta)\n",
    "\n",
    "delta = new_theta - theta\n",
    "print(\"The difference in angles is: \", delta)\n",
    "\n",
    "answer = delta * radius\n",
    "print(\"The answer is: \", answer, \"km\")"
   ],
   "metadata": {
    "collapsed": false
   }
  },
  {
   "cell_type": "markdown",
   "source": [
    "Sports betting site gives you payouts for a football match.\n",
    "❖ TeamA win -> 1.2\n",
    "❖ Draw -> 19.2\n",
    "❖ TeamB win -> 6.4\n",
    "Given this information, what are expected probabilities:\n",
    "● TeamA win\n",
    "● Draw\n",
    "● TeamB win\n",
    "What is a betting site's profit margin (assuming it's equal for all outcomes)?"
   ],
   "metadata": {
    "collapsed": false
   }
  },
  {
   "cell_type": "code",
   "execution_count": 14,
   "outputs": [
    {
     "name": "stdout",
     "output_type": "stream",
     "text": [
      "The probability that team a wins is:  0.8333333333333334\n",
      "The probability that it is a draw is:  0.052083333333333336\n",
      "The probability that team b wins is:  0.15625\n",
      "The profit margin is:  0.04166666666666674\n"
     ]
    }
   ],
   "source": [
    "def implied_probability(payout):\n",
    "    return 1 / payout\n",
    "\n",
    "print(\"The probability that team a wins is: \", implied_probability(1.2))\n",
    "print(\"The probability that it is a draw is: \", implied_probability(19.2))\n",
    "print(\"The probability that team b wins is: \", implied_probability(6.4))\n",
    "\n",
    "total_implied_probability = implied_probability(1.2) + implied_probability(19.2) + implied_probability(6.4)\n",
    "betting_profit_margin = total_implied_probability - 1\n",
    "print(\"The profit margin is: \", betting_profit_margin)"
   ],
   "metadata": {
    "collapsed": false
   }
  },
  {
   "cell_type": "markdown",
   "source": [
    "Take binance.com trading platform, ETH/USDT SPOT trading pair. What is the average trade price, weighted by ETH amount, in January 1st 2023 UTC time.\n",
    "(hint: sum of first 8 digits after comma should be 37)"
   ],
   "metadata": {
    "collapsed": false
   }
  },
  {
   "cell_type": "code",
   "execution_count": 68,
   "outputs": [
    {
     "data": {
      "text/plain": "           TradeID    Price     qty   quoteQty           time  isBuyerMaker  \\\n0       1049568772  1196.13  0.0104  12.439752  1672531200000          True   \n1       1049568773  1196.13  0.0119  14.233947  1672531200007          True   \n2       1049568774  1196.13  0.0557  66.624441  1672531200008          True   \n3       1049568775  1196.13  0.0150  17.941950  1672531200008          True   \n4       1049568776  1196.14  0.0204  24.401256  1672531200009         False   \n...            ...      ...     ...        ...            ...           ...   \n233146  1049801918  1200.33  0.0444  53.294652  1672617599996          True   \n233147  1049801919  1200.33  0.0114  13.683762  1672617599997          True   \n233148  1049801920  1200.33  0.0142  17.044686  1672617599998          True   \n233149  1049801921  1200.34  0.0094  11.283196  1672617599998         False   \n233150  1049801922  1200.34  0.0116  13.923944  1672617599999         False   \n\n        isBestMatch  \n0              True  \n1              True  \n2              True  \n3              True  \n4              True  \n...             ...  \n233146         True  \n233147         True  \n233148         True  \n233149         True  \n233150         True  \n\n[233151 rows x 7 columns]",
      "text/html": "<div>\n<style scoped>\n    .dataframe tbody tr th:only-of-type {\n        vertical-align: middle;\n    }\n\n    .dataframe tbody tr th {\n        vertical-align: top;\n    }\n\n    .dataframe thead th {\n        text-align: right;\n    }\n</style>\n<table border=\"1\" class=\"dataframe\">\n  <thead>\n    <tr style=\"text-align: right;\">\n      <th></th>\n      <th>TradeID</th>\n      <th>Price</th>\n      <th>qty</th>\n      <th>quoteQty</th>\n      <th>time</th>\n      <th>isBuyerMaker</th>\n      <th>isBestMatch</th>\n    </tr>\n  </thead>\n  <tbody>\n    <tr>\n      <th>0</th>\n      <td>1049568772</td>\n      <td>1196.13</td>\n      <td>0.0104</td>\n      <td>12.439752</td>\n      <td>1672531200000</td>\n      <td>True</td>\n      <td>True</td>\n    </tr>\n    <tr>\n      <th>1</th>\n      <td>1049568773</td>\n      <td>1196.13</td>\n      <td>0.0119</td>\n      <td>14.233947</td>\n      <td>1672531200007</td>\n      <td>True</td>\n      <td>True</td>\n    </tr>\n    <tr>\n      <th>2</th>\n      <td>1049568774</td>\n      <td>1196.13</td>\n      <td>0.0557</td>\n      <td>66.624441</td>\n      <td>1672531200008</td>\n      <td>True</td>\n      <td>True</td>\n    </tr>\n    <tr>\n      <th>3</th>\n      <td>1049568775</td>\n      <td>1196.13</td>\n      <td>0.0150</td>\n      <td>17.941950</td>\n      <td>1672531200008</td>\n      <td>True</td>\n      <td>True</td>\n    </tr>\n    <tr>\n      <th>4</th>\n      <td>1049568776</td>\n      <td>1196.14</td>\n      <td>0.0204</td>\n      <td>24.401256</td>\n      <td>1672531200009</td>\n      <td>False</td>\n      <td>True</td>\n    </tr>\n    <tr>\n      <th>...</th>\n      <td>...</td>\n      <td>...</td>\n      <td>...</td>\n      <td>...</td>\n      <td>...</td>\n      <td>...</td>\n      <td>...</td>\n    </tr>\n    <tr>\n      <th>233146</th>\n      <td>1049801918</td>\n      <td>1200.33</td>\n      <td>0.0444</td>\n      <td>53.294652</td>\n      <td>1672617599996</td>\n      <td>True</td>\n      <td>True</td>\n    </tr>\n    <tr>\n      <th>233147</th>\n      <td>1049801919</td>\n      <td>1200.33</td>\n      <td>0.0114</td>\n      <td>13.683762</td>\n      <td>1672617599997</td>\n      <td>True</td>\n      <td>True</td>\n    </tr>\n    <tr>\n      <th>233148</th>\n      <td>1049801920</td>\n      <td>1200.33</td>\n      <td>0.0142</td>\n      <td>17.044686</td>\n      <td>1672617599998</td>\n      <td>True</td>\n      <td>True</td>\n    </tr>\n    <tr>\n      <th>233149</th>\n      <td>1049801921</td>\n      <td>1200.34</td>\n      <td>0.0094</td>\n      <td>11.283196</td>\n      <td>1672617599998</td>\n      <td>False</td>\n      <td>True</td>\n    </tr>\n    <tr>\n      <th>233150</th>\n      <td>1049801922</td>\n      <td>1200.34</td>\n      <td>0.0116</td>\n      <td>13.923944</td>\n      <td>1672617599999</td>\n      <td>False</td>\n      <td>True</td>\n    </tr>\n  </tbody>\n</table>\n<p>233151 rows × 7 columns</p>\n</div>"
     },
     "execution_count": 68,
     "metadata": {},
     "output_type": "execute_result"
    }
   ],
   "source": [
    "column_names = [\"TradeID\", \"Price\", \"qty\", \"quoteQty\", \"time\", \"isBuyerMaker\", \"isBestMatch\"]\n",
    "df = pd.read_csv(\"/Users/luka/Downloads/ETHUSDT-trades-2023-01-01.csv\", names=column_names)\n",
    "df"
   ],
   "metadata": {
    "collapsed": false
   }
  },
  {
   "cell_type": "code",
   "execution_count": 69,
   "outputs": [
    {
     "name": "stdout",
     "output_type": "stream",
     "text": [
      "1197.4568590030158\n"
     ]
    }
   ],
   "source": [
    "df[\"x\"] = df[\"Price\"] * df[\"qty\"]\n",
    "\n",
    "qty = df[\"qty\"].sum()\n",
    "x = df[\"x\"].sum()\n",
    "vwap = x/qty\n",
    "print(vwap)"
   ],
   "metadata": {
    "collapsed": false
   }
  },
  {
   "cell_type": "code",
   "execution_count": 60,
   "outputs": [
    {
     "data": {
      "text/plain": "Empty DataFrame\nColumns: []\nIndex: []",
      "text/html": "<div>\n<style scoped>\n    .dataframe tbody tr th:only-of-type {\n        vertical-align: middle;\n    }\n\n    .dataframe tbody tr th {\n        vertical-align: top;\n    }\n\n    .dataframe thead th {\n        text-align: right;\n    }\n</style>\n<table border=\"1\" class=\"dataframe\">\n  <thead>\n    <tr style=\"text-align: right;\">\n      <th></th>\n    </tr>\n  </thead>\n  <tbody>\n  </tbody>\n</table>\n</div>"
     },
     "execution_count": 60,
     "metadata": {},
     "output_type": "execute_result"
    }
   ],
   "source": [
    "df"
   ],
   "metadata": {
    "collapsed": false
   }
  },
  {
   "cell_type": "markdown",
   "source": [
    "Sum of all digits of all natural numbers [0; 10^12] inclusive."
   ],
   "metadata": {
    "collapsed": false
   }
  },
  {
   "cell_type": "code",
   "execution_count": 42,
   "outputs": [
    {
     "name": "stdout",
     "output_type": "stream",
     "text": [
      "The sum of all numbers from 0 to 10^12 is:  5.000000000005e+23\n"
     ]
    }
   ],
   "source": [
    "def sum(last_number):\n",
    "    return (last_number*(last_number+1))/2\n",
    "\n",
    "sum = sum(10**12)\n",
    "print(\"The sum of all numbers from 0 to 10^12 is: \", sum)"
   ],
   "metadata": {
    "collapsed": false
   }
  },
  {
   "cell_type": "code",
   "execution_count": null,
   "outputs": [],
   "source": [],
   "metadata": {
    "collapsed": false
   }
  }
 ],
 "metadata": {
  "kernelspec": {
   "display_name": "Python 3",
   "language": "python",
   "name": "python3"
  },
  "language_info": {
   "codemirror_mode": {
    "name": "ipython",
    "version": 2
   },
   "file_extension": ".py",
   "mimetype": "text/x-python",
   "name": "python",
   "nbconvert_exporter": "python",
   "pygments_lexer": "ipython2",
   "version": "2.7.6"
  }
 },
 "nbformat": 4,
 "nbformat_minor": 0
}

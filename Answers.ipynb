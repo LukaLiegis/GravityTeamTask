{
 "cells": [
  {
   "cell_type": "code",
   "execution_count": 1,
   "metadata": {
    "collapsed": true
   },
   "outputs": [],
   "source": [
    "import math\n",
    "import numpy as np"
   ]
  },
  {
   "cell_type": "markdown",
   "source": [
    "Imagine you are on the equator. You go 1000 km to east then 1000km to north then 1000km to west then 1000km to south. Assuming earth is a perfect sphere and equator is 40000 km, how far from the original location (in kilometers) are you?"
   ],
   "metadata": {
    "collapsed": false
   }
  },
  {
   "cell_type": "code",
   "execution_count": null,
   "outputs": [],
   "source": [],
   "metadata": {
    "collapsed": false
   }
  },
  {
   "cell_type": "markdown",
   "source": [
    "Sports betting site gives you payouts for a football match.\n",
    "❖ TeamA win -> 1.2\n",
    "❖ Draw -> 19.2\n",
    "❖ TeamB win -> 6.4\n",
    "Given this information, what are expected probabilities:\n",
    "● TeamA win\n",
    "● Draw\n",
    "● TeamB win\n",
    "What is a betting site's profit margin (assuming it's equal for all outcomes)?"
   ],
   "metadata": {
    "collapsed": false
   }
  },
  {
   "cell_type": "code",
   "execution_count": 14,
   "outputs": [
    {
     "name": "stdout",
     "output_type": "stream",
     "text": [
      "The probability that team a wins is:  0.8333333333333334\n",
      "The probability that it is a draw is:  0.052083333333333336\n",
      "The probability that team b wins is:  0.15625\n",
      "The profit margin is:  0.04166666666666674\n"
     ]
    }
   ],
   "source": [
    "def implied_probability(payout):\n",
    "    return 1 / payout\n",
    "\n",
    "print(\"The probability that team a wins is: \", implied_probability(1.2))\n",
    "print(\"The probability that it is a draw is: \", implied_probability(19.2))\n",
    "print(\"The probability that team b wins is: \", implied_probability(6.4))\n",
    "\n",
    "total_implied_probability = implied_probability(1.2) + implied_probability(19.2) + implied_probability(6.4)\n",
    "betting_profit_margin = total_implied_probability - 1\n",
    "print(\"The profit margin is: \", betting_profit_margin)"
   ],
   "metadata": {
    "collapsed": false
   }
  },
  {
   "cell_type": "markdown",
   "source": [
    "Take binance.com trading platform, ETH/USDT SPOT trading pair. What is the average trade price, weighted by ETH amount, in January 1st 2023 UTC time.\n",
    "(hint: sum of first 8 digits after comma should be 37)"
   ],
   "metadata": {
    "collapsed": false
   }
  },
  {
   "cell_type": "code",
   "execution_count": 3,
   "outputs": [
    {
     "name": "stdout",
     "output_type": "stream",
     "text": [
      "141140897.32\n"
     ]
    }
   ],
   "source": [
    "vol_eth = 117762\n",
    "high = 1204.67\n",
    "low = 1190.57\n",
    "close = 1200.34\n",
    "average = (high + low + close) / 3\n",
    "vwap = average * vol_eth\n",
    "print(vwap)"
   ],
   "metadata": {
    "collapsed": false
   }
  },
  {
   "cell_type": "markdown",
   "source": [
    "Sum of all digits of all natural numbers [0; 10^12] inclusive."
   ],
   "metadata": {
    "collapsed": false
   }
  },
  {
   "cell_type": "code",
   "execution_count": 18,
   "outputs": [
    {
     "name": "stdout",
     "output_type": "stream",
     "text": [
      "The sum of all numbers from 0 to 10^12 is:  5.000000000005e+23\n"
     ]
    }
   ],
   "source": [
    "def sum(last_number):\n",
    "    return (last_number*(last_number+1))/2\n",
    "\n",
    "sum = sum(10**12)\n",
    "print(\"The sum of all numbers from 0 to 10^12 is: \", sum)"
   ],
   "metadata": {
    "collapsed": false
   }
  },
  {
   "cell_type": "code",
   "execution_count": null,
   "outputs": [],
   "source": [],
   "metadata": {
    "collapsed": false
   }
  }
 ],
 "metadata": {
  "kernelspec": {
   "display_name": "Python 3",
   "language": "python",
   "name": "python3"
  },
  "language_info": {
   "codemirror_mode": {
    "name": "ipython",
    "version": 2
   },
   "file_extension": ".py",
   "mimetype": "text/x-python",
   "name": "python",
   "nbconvert_exporter": "python",
   "pygments_lexer": "ipython2",
   "version": "2.7.6"
  }
 },
 "nbformat": 4,
 "nbformat_minor": 0
}
